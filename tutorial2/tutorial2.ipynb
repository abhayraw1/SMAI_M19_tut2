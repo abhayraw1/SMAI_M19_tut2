{
 "cells": [
  {
   "cell_type": "markdown",
   "metadata": {},
   "source": [
    "# SMAI Tutorial 2: Intro to Python\n",
    "## Python Basics\n",
    "\n",
    "- Python is an interpreted language"
   ]
  },
  {
   "cell_type": "markdown",
   "metadata": {},
   "source": [
    "### Python Interpreter\n",
    "Run `python` to run the default python interpreter. Alternatively, to start the interpreter for a specific version of python, run `python2.x` or `python3.x` where `x` would correspond to the version number of python installed.\n",
    "\n",
    "As the support for python2.7 is going to end in 2020, we are going to be using python 3.6 for this tutorial."
   ]
  },
  {
   "cell_type": "code",
   "execution_count": 9,
   "metadata": {},
   "outputs": [
    {
     "data": {
      "text/html": [
       "<iframe src=\"https://pythonclock.org/\" width=\"800\" height=\"200\" scrolling=\"no\"></iframe>\n"
      ],
      "text/plain": [
       "<IPython.core.display.HTML object>"
      ]
     },
     "metadata": {},
     "output_type": "display_data"
    }
   ],
   "source": [
    "%%html\n",
    "<iframe src=\"https://pythonclock.org/\" width=\"800\" height=\"200\" scrolling=\"no\"></iframe>"
   ]
  },
  {
   "cell_type": "markdown",
   "metadata": {},
   "source": [
    "#### This is what the python interpreter looks like:\n",
    "![alt text](__imgs/py36interpreter.jpg \"Python Interpreter\")"
   ]
  },
  {
   "cell_type": "markdown",
   "metadata": {},
   "source": [
    "### Python is dynamically typed!\n",
    " - Python variable assignment is different from some of the popular languages like c, c++ and java.\n",
    " - There is no declaration of a variable, just an assignment statement.\n",
    " - It doesn’t know about the type of the variable until the code is run.\n",
    " - It stores that value at some memory location and then binds that variable name to that memory container thus making the contents of the container accessible through that variable name"
   ]
  },
  {
   "cell_type": "code",
   "execution_count": 11,
   "metadata": {},
   "outputs": [
    {
     "name": "stdout",
     "output_type": "stream",
     "text": [
      "<class 'int'>\n",
      "<class 'str'>\n"
     ]
    }
   ],
   "source": [
    "x = 1\n",
    "print(type(x))\n",
    "x = 'python is awesome'\n",
    "print(type(x))"
   ]
  },
  {
   "cell_type": "markdown",
   "metadata": {},
   "source": [
    "### Datatypes\n",
    "#### Integers\n",
    "\n",
    "- No limit to how long an integer value can be. Constrained only by the system memory!\n",
    "- Any sequence of decimal numbers not starting with 0 (unless its zeros itself) are considered in decimal system.\n",
    "- Binary, Octal and Hex numbers can be specified with `0b`, `0o` and `0x` prefixes."
   ]
  },
  {
   "cell_type": "code",
   "execution_count": 21,
   "metadata": {},
   "outputs": [
    {
     "name": "stdout",
     "output_type": "stream",
     "text": [
      "A vet long integer...\n",
      "123123123123123123123123123123123123123123123123123 <class 'int'>\n",
      "\n",
      "\n",
      "100 in decimal system is: 100\n",
      "100 in binary system is: 4\n",
      "100 in octal system is: 64\n",
      "100 in hexadecimal system is: 256\n"
     ]
    }
   ],
   "source": [
    "print('A vet long integer...')\n",
    "x = 123123123123123123123123123123123123123123123123123\n",
    "print(x, type(x))\n",
    "print('\\n')\n",
    "\n",
    "x = 100\n",
    "print('100 in decimal system is:', x)\n",
    "x = 0b100\n",
    "print('100 in binary system is:', x)\n",
    "x = 0o100\n",
    "print('100 in octal system is:', x)\n",
    "x = 0x100\n",
    "print('100 in hexadecimal system is:', x)"
   ]
  },
  {
   "cell_type": "markdown",
   "metadata": {},
   "source": [
    "#### Floating-Point Numbers\n",
    "- Float values are specified with a decimal point.\n",
    "- Optionally, the character `e` or `E` followed by a positive or negative integer may be appended to specify scientific notation\n",
    "- Optional to have a number before/after the decimal point"
   ]
  },
  {
   "cell_type": "code",
   "execution_count": 25,
   "metadata": {},
   "outputs": [
    {
     "name": "stdout",
     "output_type": "stream",
     "text": [
      "The value of x is: 4.6 & its type is: <class 'float'>\n",
      "The value of y is: 1200.0 & its type is: <class 'float'>\n",
      "The value of x is: 4.0 & its type is: <class 'float'>\n",
      "The value of y is: 0.3 & its type is: <class 'float'>\n"
     ]
    }
   ],
   "source": [
    "x = 4.6\n",
    "y = 1.2e3 # 1.2*10^3\n",
    "z = 4.\n",
    "w = .3\n",
    "print('The value of x is:', x, '& its type is:', type(x))\n",
    "print('The value of y is:', y, '& its type is:', type(y))\n",
    "print('The value of x is:', z, '& its type is:', type(z))\n",
    "print('The value of y is:', w, '& its type is:', type(w))"
   ]
  },
  {
   "cell_type": "markdown",
   "metadata": {},
   "source": [
    "### Complex Numbers\n",
    "Complex numbers are specified as `real part` + `imaginary part`j"
   ]
  },
  {
   "cell_type": "code",
   "execution_count": 27,
   "metadata": {},
   "outputs": [
    {
     "name": "stdout",
     "output_type": "stream",
     "text": [
      "The value of x is: (2+1.2j) & its type is: <class 'complex'>\n"
     ]
    }
   ],
   "source": [
    "x = 2 + 1.2j\n",
    "print('The value of x is:', x, '& its type is:', type(x))"
   ]
  },
  {
   "cell_type": "markdown",
   "metadata": {},
   "source": [
    "### Basic math operations"
   ]
  },
  {
   "cell_type": "code",
   "execution_count": 68,
   "metadata": {},
   "outputs": [
    {
     "name": "stdout",
     "output_type": "stream",
     "text": [
      "ADDITION (+) & SUBTRACTION (-):\n",
      "2 + 3 = 5\n",
      "2 + 4.2 = 6.2\n",
      "x has changed is type to <class 'float'> after being added to a float\n",
      "After inplace subtraction, x is now: 2.0 \n",
      "\n",
      "MULTIPLICATION: (*)\n",
      "Notice how type is change on multiplication with a float\n",
      "2.0 * 3 = 6.0\n",
      "5 * 3 = 15 \n",
      "\n",
      "DIVISION: (/)\n",
      "2.0 / 3 = 0.6666666666666666\n",
      "5 / 5 = 1.0\n",
      "3 is of type <class 'int'> but 3 /3 is 1.0 which is of type <class 'float'>\n",
      "Floor division is performed by //: 3 //3 is 1 which is of type <class 'int'> \n",
      "\n",
      "POWER:(**)\n",
      "Power operation can be perfomed by **\n",
      "3 raised to the power 2 is 9\n",
      "3 raised to the power 4.5 is 140.29611541307906\n"
     ]
    }
   ],
   "source": [
    "print('ADDITION (+) & SUBTRACTION (-):')\n",
    "x = 2\n",
    "y = 3\n",
    "z = x + y\n",
    "print(x, '+', y, '=', z)\n",
    "print(x, '+ 4.2', '=', x + 4.2)\n",
    "x = x + 0.2\n",
    "print('x has changed is type to', type(x), 'after being added to a float')\n",
    "x -= 0.2 # Inplace addition/subtraction\n",
    "print('After inplace subtraction, x is now:', x, '\\n')\n",
    "print('MULTIPLICATION: (*)')\n",
    "print('Notice how type is change on multiplication with a float')\n",
    "print(x, '*', y, '=', (x*y))\n",
    "print(z, '*', y, '=', (z*y), '\\n')\n",
    "print('DIVISION: (/)')\n",
    "print(x, '/', y, '=', (x/y))\n",
    "print(z, '/', 5, '=', (z/5))\n",
    "print(y, 'is of type', type(y), 'but', y, '/3 is', y/3, 'which is of type', type(y/3))\n",
    "print('Floor division is performed by //:', y, '//3 is', y//3, 'which is of type', type(y//3), '\\n')\n",
    "print('POWER:(**)')\n",
    "print('Power operation can be perfomed by **')\n",
    "print(y, 'raised to the power 2 is', y**2)\n",
    "print(y, 'raised to the power 4.5 is', y**4.5)"
   ]
  },
  {
   "cell_type": "markdown",
   "metadata": {},
   "source": [
    "### Strings\n",
    "- Strings are sequences of c\"haracter data.\n",
    "- The string type in Python is called str.\n",
    "- String literals may be delimited using either single `'` or double quotes `\"`.\n",
    "- All the characters between the opening delimiter and matching closing delimiter are part of the string.\n",
    "- Immutable\n",
    "- Characters can be accessed using indexing notation."
   ]
  },
  {
   "cell_type": "code",
   "execution_count": 69,
   "metadata": {},
   "outputs": [
    {
     "name": "stdout",
     "output_type": "stream",
     "text": [
      "The value of x is: Hello world & its type is: <class 'str'>\n",
      "The value of y is: Some text here & its type is: <class 'str'> \n",
      "\n",
      "The first character of string x is: H \n",
      "\n"
     ]
    },
    {
     "ename": "TypeError",
     "evalue": "'str' object does not support item assignment",
     "output_type": "error",
     "traceback": [
      "\u001b[0;31m---------------------------------------------------------------------------\u001b[0m",
      "\u001b[0;31mTypeError\u001b[0m                                 Traceback (most recent call last)",
      "\u001b[0;32m<ipython-input-69-78063fac9401>\u001b[0m in \u001b[0;36m<module>\u001b[0;34m\u001b[0m\n\u001b[1;32m      5\u001b[0m \u001b[0mprint\u001b[0m\u001b[0;34m(\u001b[0m\u001b[0;34m'The value of y is:'\u001b[0m\u001b[0;34m,\u001b[0m \u001b[0my\u001b[0m\u001b[0;34m,\u001b[0m \u001b[0;34m'& its type is:'\u001b[0m\u001b[0;34m,\u001b[0m \u001b[0mtype\u001b[0m\u001b[0;34m(\u001b[0m\u001b[0my\u001b[0m\u001b[0;34m)\u001b[0m\u001b[0;34m,\u001b[0m \u001b[0;34m'\\n'\u001b[0m\u001b[0;34m)\u001b[0m\u001b[0;34m\u001b[0m\u001b[0;34m\u001b[0m\u001b[0m\n\u001b[1;32m      6\u001b[0m \u001b[0mprint\u001b[0m\u001b[0;34m(\u001b[0m\u001b[0;34m'The first character of string x is:'\u001b[0m\u001b[0;34m,\u001b[0m \u001b[0mx\u001b[0m\u001b[0;34m[\u001b[0m\u001b[0;36m0\u001b[0m\u001b[0;34m]\u001b[0m\u001b[0;34m,\u001b[0m \u001b[0;34m'\\n'\u001b[0m\u001b[0;34m)\u001b[0m\u001b[0;34m\u001b[0m\u001b[0;34m\u001b[0m\u001b[0m\n\u001b[0;32m----> 7\u001b[0;31m \u001b[0mx\u001b[0m\u001b[0;34m[\u001b[0m\u001b[0;36m0\u001b[0m\u001b[0;34m]\u001b[0m \u001b[0;34m=\u001b[0m \u001b[0;34m'b'\u001b[0m \u001b[0;31m# thows an exception because strings are immutable\u001b[0m\u001b[0;34m\u001b[0m\u001b[0;34m\u001b[0m\u001b[0m\n\u001b[0m",
      "\u001b[0;31mTypeError\u001b[0m: 'str' object does not support item assignment"
     ]
    }
   ],
   "source": [
    "x = 'Hello world'\n",
    "y = \"Some text here\"\n",
    "\n",
    "print('The value of x is:', x, '& its type is:', type(x))\n",
    "print('The value of y is:', y, '& its type is:', type(y), '\\n')\n",
    "print('The first character of string x is:', x[0], '\\n')\n",
    "x[0] = 'b' # thows an exception because strings are immutable"
   ]
  },
  {
   "cell_type": "markdown",
   "metadata": {},
   "source": [
    "- If you want to include a quote character as part of the string itself, then either use the other kind of delimiter for the string or use escape sequences or you can use triple quoted strings.\n",
    "- Escape sequences that you might be familiar with can also be used here. Eg: `\\t`, `\\\\`, `\\n`, etc\n",
    "- For uniformity try using either `'` or `\"` for defining string. Avoid mixing the two. "
   ]
  },
  {
   "cell_type": "code",
   "execution_count": 78,
   "metadata": {},
   "outputs": [
    {
     "name": "stdout",
     "output_type": "stream",
     "text": [
      "These -> \"\" are called double quotes\n",
      "These -> '' are called single quotes\n",
      "We can use ' and \" together too!! \n",
      "\n",
      "A triple quoted string can be used for\n",
      "a string spanning multiple lines \n",
      "\n",
      "\\ can be used to write strings in multiple lines \n",
      "\n",
      "Be cautious of something like this!\n",
      "C:\\some\n",
      "ame\n",
      "C:\\some\\name\n",
      "C:\\some\\name\n"
     ]
    }
   ],
   "source": [
    "# a = 'These -> '' are called double quotes #throws and exception!\n",
    "x = 'These -> \"\" are called double quotes'\n",
    "y = \"These -> '' are called single quotes\"\n",
    "z = \"We can use \\' and \\\" together too!!\"\n",
    "print(x)\n",
    "print(y)\n",
    "print(z, '\\n')\n",
    "x = '''A triple quoted string can be used for\n",
    "a string spanning multiple lines'''\n",
    "print(x, '\\n')\n",
    "y = '\\\\ can be used to write strings \\\n",
    "in multiple lines'\n",
    "print(y, '\\n')\n",
    "print('Be cautious of something like this!')\n",
    "print('C:\\some\\name')\n",
    "print('C:\\some\\\\name')\n",
    "print(r'C:\\some\\name') # raw string using the r prefix"
   ]
  },
  {
   "cell_type": "code",
   "execution_count": 74,
   "metadata": {},
   "outputs": [
    {
     "name": "stdout",
     "output_type": "stream",
     "text": [
      "SOME STRING OPERATIONS:\n",
      "Hello + World = HelloWorld\n",
      "Hello * 3 = HelloHelloHello\n"
     ]
    }
   ],
   "source": [
    "print('SOME STRING OPERATIONS:')\n",
    "x = 'Hello'\n",
    "y = 'World'\n",
    "print(x, \"+\", y, \"=\", x + y) # String concatenation\n",
    "print(x, \"*\", 3, \"=\", x*3)"
   ]
  },
  {
   "cell_type": "markdown",
   "metadata": {},
   "source": [
    "#### String formatting\n",
    "- `format` method can be used to format string objects.\n",
    "- `%` can also be used to achieve the same thing. Here the format specifier used is %`<type>`"
   ]
  },
  {
   "cell_type": "code",
   "execution_count": 109,
   "metadata": {},
   "outputs": [
    {
     "name": "stdout",
     "output_type": "stream",
     "text": [
      "MATLAB's 1 based indexing makes no sense!\n",
      "MATLAB's 1 based indexing makes no sense!\n",
      "Python's 0 based indexing makes total sense! \n",
      "\n",
      "You can also assign the index to the {} placeholder\n",
      "1 2 ka 4, 4 2 ka 1\n",
      "Using % to format the string!\n",
      "  2 duni 4.00 \n",
      "\n",
      "ALIGNMENT:\n",
      "----3\n",
      "3----\n",
      "--3--\n"
     ]
    }
   ],
   "source": [
    "x = 'MATLAB\\'s {} based indexing makes no sense!'\n",
    "y = '{}\\'s {} based indexing makes {} sense!'\n",
    "print(x.format(1))\n",
    "print(y.format('MATLAB', 1, 'no'))\n",
    "print(y.format('Python', 0, 'total'), '\\n')\n",
    "print('You can also assign the index to the {} placeholder')\n",
    "print('{0} {1} ka {2}, {2} {1} ka {0}'.format(1,2,4))\n",
    "print('Using % to format the string!')\n",
    "print('%3d %s %3.2f' % (2, 'duni', 4), '\\n')\n",
    "print('ALIGNMENT:')\n",
    "print('{:->5}'.format(3))\n",
    "print('{:-<5}'.format(3))\n",
    "print('{:-^5}'.format(3))"
   ]
  },
  {
   "cell_type": "markdown",
   "metadata": {},
   "source": [
    "### Boolean Type\n",
    "- Has 2 values `True` and `False`\n",
    "- The boolean type in Python is called `bool`.\n",
    "- Notice that the letters `T` and `F` are in CAPS, unlike most languages you might be familiar with."
   ]
  },
  {
   "cell_type": "code",
   "execution_count": 41,
   "metadata": {},
   "outputs": [
    {
     "name": "stdout",
     "output_type": "stream",
     "text": [
      "The value of x is: True & its type is: <class 'bool'>\n",
      "The value of y is: False & its type is: <class 'bool'>\n"
     ]
    }
   ],
   "source": [
    "x = True\n",
    "y = False\n",
    "\n",
    "print('The value of x is:', x, '& its type is:', type(x))\n",
    "print('The value of y is:', y, '& its type is:', type(y))"
   ]
  },
  {
   "cell_type": "markdown",
   "metadata": {},
   "source": [
    "### Lists\n",
    "- List are analogous to array in other languages.\n",
    "- However, lists in python need not have homogenous elements, i.e., of the same type.\n",
    "- Can be used to implement stacks and queues in <5 LOC (lines of code).\n",
    "- Mutable\n",
    "- Ordered\n",
    "- zero indexed (A sensible thing to do!)"
   ]
  },
  {
   "cell_type": "code",
   "execution_count": 144,
   "metadata": {},
   "outputs": [
    {
     "name": "stdout",
     "output_type": "stream",
     "text": [
      "The contents of x are: [1, 2.4, 'doggo', True, 1j]\n",
      "The first element of x is: 1\n",
      "The third element of x is: doggo\n"
     ]
    }
   ],
   "source": [
    "x = [1, 2.4, 'doggo', True, 1j]\n",
    "y = [1, 2, 3]\n",
    "print('The contents of x are:', x)\n",
    "print('The first element of x is:', x[0])\n",
    "print('The third element of x is:', x[2])"
   ]
  },
  {
   "cell_type": "code",
   "execution_count": 145,
   "metadata": {},
   "outputs": [
    {
     "name": "stdout",
     "output_type": "stream",
     "text": [
      "Adding an element to a list\n",
      "[1, 2.4, 'doggo', True, 1j, 'a new element!']\n",
      "You can also add a list as an element\n",
      "[2, 1, ['new', 'list'], 2.4, 'doggo', True, 1j, 'a new element!'] \n",
      "\n",
      "Deleting an element!\n",
      "Popping the 3rd element, which is ['new', 'list'] \n",
      "Now list is: [2, 1, 2.4, 'doggo', True, 1j, 'a new element!']\n",
      "[1, 2.4, 'doggo', True, 1j, 'a new element!'] \n",
      "\n",
      "Merging two lists:\n",
      "[1, 2.4, 'doggo', True, 1j, 'a new element!', 1, 2.4, 'doggo', True, 1j, 'a new element!']\n",
      "[1, 2, 3, 1, 2.4, 'doggo', True, 1j, 'a new element!'] \n",
      "\n",
      "Number of elements in a list:\n",
      "x contains 6 elements, whereas y contains 9 elements\n"
     ]
    }
   ],
   "source": [
    "print('Adding an element to a list')\n",
    "x.append('a new element!')\n",
    "print(x)\n",
    "x.insert(-20, 2)\n",
    "print('You can also add a list as an element')\n",
    "x.insert(2, ['new', 'list'])\n",
    "print(x, '\\n')\n",
    "print('Deleting an element!')\n",
    "print('Popping the 3rd element, which is', x.pop(2), '\\nNow list is:', x)\n",
    "del x[0]\n",
    "print(x, '\\n')\n",
    "print('Merging two lists:')\n",
    "print(x + x)\n",
    "y.extend(x)\n",
    "print(y, '\\n')\n",
    "print('Number of elements in a list:')\n",
    "print('x contains', len(x), 'elements, whereas y contains', len(y), 'elements')"
   ]
  },
  {
   "cell_type": "markdown",
   "metadata": {},
   "source": [
    "### Tuples\n",
    "- A Tuple is a collection of Python objects separated by commas.\n",
    "- In someways a tuple is similar to a list in terms of indexing, nested objects and repetition but a tuple is immutable unlike lists which are mutable."
   ]
  },
  {
   "cell_type": "code",
   "execution_count": 146,
   "metadata": {},
   "outputs": [
    {
     "name": "stdout",
     "output_type": "stream",
     "text": [
      "The value of x is: (1, 2, 'Hello') & its type is: <class 'tuple'>\n",
      "The value of y is: (2, 4) & its type is: <class 'tuple'>\n",
      "4\n"
     ]
    },
    {
     "ename": "TypeError",
     "evalue": "'tuple' object does not support item assignment",
     "output_type": "error",
     "traceback": [
      "\u001b[0;31m---------------------------------------------------------------------------\u001b[0m",
      "\u001b[0;31mTypeError\u001b[0m                                 Traceback (most recent call last)",
      "\u001b[0;32m<ipython-input-146-73f46d4ba490>\u001b[0m in \u001b[0;36m<module>\u001b[0;34m\u001b[0m\n\u001b[1;32m      4\u001b[0m \u001b[0mprint\u001b[0m\u001b[0;34m(\u001b[0m\u001b[0;34m'The value of y is:'\u001b[0m\u001b[0;34m,\u001b[0m \u001b[0my\u001b[0m\u001b[0;34m,\u001b[0m \u001b[0;34m'& its type is:'\u001b[0m\u001b[0;34m,\u001b[0m \u001b[0mtype\u001b[0m\u001b[0;34m(\u001b[0m\u001b[0my\u001b[0m\u001b[0;34m)\u001b[0m\u001b[0;34m)\u001b[0m\u001b[0;34m\u001b[0m\u001b[0;34m\u001b[0m\u001b[0m\n\u001b[1;32m      5\u001b[0m \u001b[0mprint\u001b[0m\u001b[0;34m(\u001b[0m\u001b[0my\u001b[0m\u001b[0;34m[\u001b[0m\u001b[0;36m1\u001b[0m\u001b[0;34m]\u001b[0m\u001b[0;34m)\u001b[0m\u001b[0;34m\u001b[0m\u001b[0;34m\u001b[0m\u001b[0m\n\u001b[0;32m----> 6\u001b[0;31m \u001b[0my\u001b[0m\u001b[0;34m[\u001b[0m\u001b[0;36m1\u001b[0m\u001b[0;34m]\u001b[0m \u001b[0;34m=\u001b[0m \u001b[0;36m22\u001b[0m \u001b[0;31m# raises exception because tuple is immutable!\u001b[0m\u001b[0;34m\u001b[0m\u001b[0;34m\u001b[0m\u001b[0m\n\u001b[0m",
      "\u001b[0;31mTypeError\u001b[0m: 'tuple' object does not support item assignment"
     ]
    }
   ],
   "source": [
    "x = (1, 2, 'Hello')\n",
    "print('The value of x is:', x, '& its type is:', type(x))\n",
    "y = 2, 4\n",
    "print('The value of y is:', y, '& its type is:', type(y))\n",
    "print(y[1])\n",
    "y[1] = 22 # raises exception because tuple is immutable!"
   ]
  },
  {
   "cell_type": "markdown",
   "metadata": {},
   "source": [
    "### Advanced indexing and slicing\n",
    "- negative indexing is supported in python. -ve indices denote the elements from the rear end of the object (lists/strings)"
   ]
  },
  {
   "cell_type": "code",
   "execution_count": 147,
   "metadata": {},
   "outputs": [
    {
     "name": "stdout",
     "output_type": "stream",
     "text": [
      "Last element of the string PYTHON can be indexed using -1: N\n",
      "2nd last element of the list [1, 2, 3] can be indexed using -2: 2\n"
     ]
    }
   ],
   "source": [
    "x = 'PYTHON'\n",
    "y = [1, 2, 3]\n",
    "print('Last element of the string', x, 'can be indexed using -1:', x[-1])\n",
    "print('2nd last element of the list', y, 'can be indexed using -2:', y[-2])"
   ]
  },
  {
   "cell_type": "markdown",
   "metadata": {},
   "source": [
    "- If you've got an list, tuple or array and you want to get specific sets of sub-elements from it, without any long, drawn out for loops, Python has you covered with slicing.\n",
    "- Slicing can not only be used for lists, tuples or arrays, but custom data structures as well, with the slice object, which will be used later on in this article.\n",
    "- Format for slicing is:\n",
    "`<object>[start : stop : steps]`\n",
    "which means that slicing will start from index `start` will go up to `stop` in step of `steps`. \n",
    "- Default value of `start` is 0, `stop` is the last index of list/string and for `steps` it is 1."
   ]
  },
  {
   "cell_type": "code",
   "execution_count": 148,
   "metadata": {},
   "outputs": [
    {
     "name": "stdout",
     "output_type": "stream",
     "text": [
      "PY\n",
      "THON\n",
      "[2, 3]\n",
      "PTO\n",
      "NOHTYP\n"
     ]
    }
   ],
   "source": [
    "print(x[:2])\n",
    "print(x[2:])\n",
    "print(y[-2:])\n",
    "print(x[::2])\n",
    "print(x[::-1])"
   ]
  },
  {
   "cell_type": "markdown",
   "metadata": {},
   "source": [
    "### Dictionaries\n",
    "- Dictionary is an unordered collection of data values, used to store data values like a map\n",
    "- Dictionary holds key:value pair.\n",
    "- Key value is provided in the dictionary to make it more optimized.\n",
    "- Each key-value pair in a Dictionary is separated by a colon `:`, whereas each key is separated by a `,`.\n",
    "- Keys of a Dictionary must be unique and of immutable data type such as Strings, Integers and tuples, but the key-values can be repeated and be of any type.\n",
    "- Dictionary keys are case sensitive"
   ]
  },
  {
   "cell_type": "code",
   "execution_count": 166,
   "metadata": {},
   "outputs": [
    {
     "name": "stdout",
     "output_type": "stream",
     "text": [
      "The value of x is: {} & its type is: <class 'dict'>\n",
      "The value of y is: {} & its type is: <class 'dict'>\n",
      "{1: 2, 2: 'two'}\n",
      "{'hello': 'world'}\n",
      "{'x': {'hello': 'world'}} \n",
      "\n",
      "Length:\n",
      "x has 1 key-val pairs\n",
      "\n",
      "Deleting a key-val pair\n",
      "{}\n",
      "{'x': {}} <-notice that the y['x'] entry has also changed. b/c the reference to x was stored in y['x']\n",
      "clear() removes all the key-val pairs! resulting in z to be {} \n",
      "\n",
      "Getting the keys of a dict: the keys() method\n",
      "dict_keys([1, '2', 3])\n",
      "[1, '2', 3] \n",
      "\n",
      "Getting the values of a dict: the values() method\n",
      "dict_values(['1', 'two', 3.0])\n",
      "['1', 'two', 3.0] \n",
      "\n",
      "Getting the key-val pairs of a dict: the items() method\n",
      "dict_items([(1, '1'), ('2', 'two'), (3, 3.0)])\n",
      "[(1, '1'), ('2', 'two'), (3, 3.0)] \n",
      "\n"
     ]
    }
   ],
   "source": [
    "x = {} # empty dictionary\n",
    "print('The value of x is:', x, '& its type is:', type(x))\n",
    "y = dict() #empty dict\n",
    "print('The value of y is:', y, '& its type is:', type(y))\n",
    "z = {1: 2, 2: 'two'}\n",
    "print(z)\n",
    "x['hello'] = 'world'\n",
    "print(x)\n",
    "y['x'] = x\n",
    "print(y, '\\n')\n",
    "print('Length:')\n",
    "print('x has', len(x), 'key-val pairs\\n')\n",
    "print('Deleting a key-val pair')\n",
    "del x['hello']\n",
    "print(x)\n",
    "print(y, '''<-notice that the y['x'] entry has also changed. b/c the reference to x was stored in y['x']''')\n",
    "z.clear()\n",
    "print('clear() removes all the key-val pairs! resulting in z to be', z, '\\n')\n",
    "\n",
    "x = {1: '1', '2': 'two', 3: 3.}\n",
    "print('Getting the keys of a dict: the keys() method')\n",
    "print(x.keys())\n",
    "print(list(x.keys()), '\\n')\n",
    "print('Getting the values of a dict: the values() method')\n",
    "print(x.values())\n",
    "print(list(x.values()), '\\n')\n",
    "print('Getting the key-val pairs of a dict: the items() method')\n",
    "print(x.items())\n",
    "print(list(x.items()), '\\n')"
   ]
  },
  {
   "cell_type": "code",
   "execution_count": null,
   "metadata": {},
   "outputs": [],
   "source": []
  }
 ],
 "metadata": {
  "kernelspec": {
   "display_name": "Python 3",
   "language": "python",
   "name": "python3"
  },
  "language_info": {
   "codemirror_mode": {
    "name": "ipython",
    "version": 3
   },
   "file_extension": ".py",
   "mimetype": "text/x-python",
   "name": "python",
   "nbconvert_exporter": "python",
   "pygments_lexer": "ipython3",
   "version": "3.6.8"
  }
 },
 "nbformat": 4,
 "nbformat_minor": 2
}
